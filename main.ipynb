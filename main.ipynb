{
 "cells": [
  {
   "cell_type": "markdown",
   "id": "4d0ecffd-ecba-49bc-bbca-94a770e351c0",
   "metadata": {},
   "source": [
    "# Current process\n",
    "\n",
    "main-agent  \n",
    "TOI-agent -> drug name recognition  \n",
    "PDF-agent -> PDF load and processing  \n",
    "Info-agent -> retrieval DILI related keywords and their sections (if applicable) from the processed PDF  \n",
    "DILI-agent -> determine DILI status"
   ]
  },
  {
   "cell_type": "code",
   "execution_count": 1,
   "id": "32cb1547-e535-4f58-8fe3-f52bbbacb1ed",
   "metadata": {},
   "outputs": [],
   "source": [
    "import openai\n",
    "import os, re\n",
    "import pandas as pd\n",
    "\n",
    "with open('../env.txt','r') as env_file:\n",
    "    for line in env_file.readlines():\n",
    "        key, val = re.split('=', line.strip())\n",
    "        os.environ[key]=val\n",
    "\n",
    "from agentUtils import *\n",
    "from demo_openai import MixtureOfAgents"
   ]
  },
  {
   "cell_type": "code",
   "execution_count": 2,
   "id": "888d52d8-9158-433e-8e7f-e5c92b97094f",
   "metadata": {},
   "outputs": [],
   "source": [
    "pdf_dict = {\n",
    "    'TAMOX': './data/hc/00064472.pdf',\n",
    "    'ATORVASTATIN': './data/hc/00066863.pdf',\n",
    "    'CONTRAVE': './data/hc/00072151.pdf',\n",
    "    'OZEMPIC': './data/hc/00074964.pdf',\n",
    "    'PANTOPRAZOLE': './data/hc/00076435.pdf',\n",
    "    'SPIKEVAX': './data/hc/00077065.pdf',\n",
    "    'OXYCODONE': './data/hc/00077125.pdf',\n",
    "    'CONCERTA': './data/hc/00077178.pdf',\n",
    "\n",
    "    'ATOMOXETINE': './data/hc/dili/00016602.pdf',\n",
    "    'ROFACT': './data/hc/dili/00051995.pdf',\n",
    "    'STIVARGA': './data/hc/dili/00055344.pdf',\n",
    "    'COPAXONE': './data/hc/dili/00059892.pdf',\n",
    "    'GILENYA': './data/hc/dili/00062229.pdf',\n",
    "    'LEFLUNOMIDE': './data/hc/dili/00072390.pdf',\n",
    "    'URSODIOL': './data/hc/dili/00072615.pdf',\n",
    "    'KEYTRUDA': './data/hc/dili/00077000.pdf',\n",
    "\n",
    "    'DOCUSATE': './data/hc/non_dili/00022698.pdf',\n",
    "    'ENDOMETRIN': './data/hc/non_dili/00030499.pdf',\n",
    "    'FUROSEMIDE': './data/hc/non_dili/00037990.pdf',\n",
    "    'DIMENHYDRINATE': './data/hc/non_dili/00042748.pdf',\n",
    "    'KETOROLAC': './data/hc/non_dili/0005900049883892.pdf',\n",
    "    'DULCOLAX': './data/hc/non_dili/00057089.pdf',\n",
    "    'RUZURGI': './data/hc/non_dili/00057532.pdf',\n",
    "    'ESOMEPRAZOLE': './data/hc/non_dili/00059893.pdf',\n",
    "    'ALENDRONATE': './data/hc/non_dili/00067108.pdf',\n",
    "}"
   ]
  },
  {
   "cell_type": "code",
   "execution_count": null,
   "id": "b84fd102",
   "metadata": {},
   "outputs": [
    {
     "name": "stdout",
     "output_type": "stream",
     "text": [
      "use Agent DILI\n",
      "use Agent TOI\n",
      "PDF Retrieval: This file ./data/hc/non_dili/00059893.pdf is used since drug name \"ESOMEPRAZOLE\" was found.\n",
      "Discussion on topic: 'DILI' for input: 'Esomeprazole is associated with drug-induced liver injury (DILI), as indicated by warnings and precautions related to liver injury and adverse reactions like abnormal hepatic function, increased liver enzymes (SGOT, SGPT), hepatitis, jaundice, hepatic failure, and hepatic encephalopathy.'\n",
      "\n",
      "Hepatocellular_Classifier thinks the input is ChatCompletionMessage(content='Relevant', refusal=None, role='assistant', audio=None, function_call=None, tool_calls=None) to 'DILI'.\n",
      "Cholestatic_Classifier thinks the input is ChatCompletionMessage(content='Relevant', refusal=None, role='assistant', audio=None, function_call=None, tool_calls=None) to 'DILI'.\n",
      "Mixed_Hepatocellular_Cholestatic_Classifier thinks the input is ChatCompletionMessage(content='Relevant', refusal=None, role='assistant', audio=None, function_call=None, tool_calls=None) to 'DILI'.\n",
      "['Relevant', 'Relevant', 'Relevant']\n"
     ]
    }
   ],
   "source": [
    "# Instantiate the environment and conduct a discussion\n",
    "environment = MixtureOfAgents()\n",
    "client = Swarm()\n",
    "\n",
    "bench_result=[]\n",
    "for drug_name in list(pdf_dict.keys())[-2:-1]:\n",
    "    response = client.run(\n",
    "        agent=agent_main,  # Main agent\n",
    "        messages=[{\"role\": \"user\", \"content\": f\"What is the DILI class of {drug_name}?\"}],\n",
    "        context_variables={\"pdf_dict\":pdf_dict, \"verbose\":False}\n",
    "    )\n",
    "    input_text = response.messages[-1][\"content\"]\n",
    "    final_ref = response.context_variables[\"final_reference\"]\n",
    "    final_kw = response.context_variables[\"final_keywords\"]\n",
    "    topic = \"DILI\"\n",
    "    res = environment.conduct_discussion(input_text, topic)\n",
    "    \n",
    "    bench_result.append([drug_name, pdf_dict[drug_name], final_ref, final_kw, input_text, res])\n",
    " \n",
    "final_report = pd.DataFrame(bench_result, columns=['Drug', 'File', 'Reference', 'Keywords', 'Result', 'Decision'])   \n"
   ]
  },
  {
   "cell_type": "code",
   "execution_count": 4,
   "id": "d9359328",
   "metadata": {},
   "outputs": [
    {
     "data": {
      "text/plain": [
       "{'#S1 [Warnings and Precautions]': '- DILI\\n- drug-induced liver injury\\n- liver injury',\n",
       " '#S2 [Adverse Reactions]': '- Drug-induced liver injury (DILI)\\n- Abnormal hepatic function\\n- Increased SGOT\\n- Increased SGPT\\n- Hepatitis\\n- Jaundice\\n- Hepatic failure\\n- Hepatic encephalopathy'}"
      ]
     },
     "execution_count": 4,
     "metadata": {},
     "output_type": "execute_result"
    }
   ],
   "source": [
    "eval(final_report['Reference'].values[0])"
   ]
  }
 ],
 "metadata": {
  "kernelspec": {
   "display_name": "pokemon_fight",
   "language": "python",
   "name": "python3"
  },
  "language_info": {
   "codemirror_mode": {
    "name": "ipython",
    "version": 3
   },
   "file_extension": ".py",
   "mimetype": "text/x-python",
   "name": "python",
   "nbconvert_exporter": "python",
   "pygments_lexer": "ipython3",
   "version": "3.11.7"
  }
 },
 "nbformat": 4,
 "nbformat_minor": 5
}
